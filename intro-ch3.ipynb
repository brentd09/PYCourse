{
 "cells": [
  {
   "cell_type": "markdown",
   "metadata": {},
   "source": [
    "## Variables"
   ]
  },
  {
   "cell_type": "code",
   "execution_count": 1,
   "metadata": {},
   "outputs": [
    {
     "name": "stdout",
     "output_type": "stream",
     "text": [
      "Hello world\n"
     ]
    }
   ],
   "source": [
    "h = 'Hello world'\n",
    "print(h)"
   ]
  },
  {
   "cell_type": "code",
   "execution_count": 2,
   "metadata": {},
   "outputs": [
    {
     "name": "stdout",
     "output_type": "stream",
     "text": [
      "123.45\n"
     ]
    }
   ],
   "source": [
    "n = 123.45\n",
    "print(n)"
   ]
  },
  {
   "cell_type": "code",
   "execution_count": 3,
   "metadata": {},
   "outputs": [
    {
     "name": "stdout",
     "output_type": "stream",
     "text": [
      "None\n"
     ]
    }
   ],
   "source": [
    "empty = None\n",
    "print(empty)"
   ]
  },
  {
   "cell_type": "markdown",
   "metadata": {},
   "source": [
    "## Variables are case sensitive"
   ]
  },
  {
   "cell_type": "code",
   "execution_count": 4,
   "metadata": {},
   "outputs": [
    {
     "name": "stdout",
     "output_type": "stream",
     "text": [
      "Variabe names are case sensitive\n"
     ]
    },
    {
     "ename": "NameError",
     "evalue": "name 'Cs' is not defined",
     "output_type": "error",
     "traceback": [
      "\u001b[1;31m---------------------------------------------------------------------------\u001b[0m",
      "\u001b[1;31mNameError\u001b[0m                                 Traceback (most recent call last)",
      "Cell \u001b[1;32mIn [4], line 3\u001b[0m\n\u001b[0;32m      1\u001b[0m cs \u001b[39m=\u001b[39m \u001b[39m'\u001b[39m\u001b[39mVariabe names are case sensitive\u001b[39m\u001b[39m'\u001b[39m\n\u001b[0;32m      2\u001b[0m \u001b[39mprint\u001b[39m(cs)\n\u001b[1;32m----> 3\u001b[0m \u001b[39mprint\u001b[39m(Cs)\n",
      "\u001b[1;31mNameError\u001b[0m: name 'Cs' is not defined"
     ]
    }
   ],
   "source": [
    "cs = 'Variabe names are case sensitive'\n",
    "print(cs)\n",
    "print(Cs)"
   ]
  },
  {
   "cell_type": "markdown",
   "metadata": {},
   "source": [
    "## You cannot use reserved words as variables in python"
   ]
  },
  {
   "cell_type": "code",
   "execution_count": 5,
   "metadata": {},
   "outputs": [
    {
     "ename": "SyntaxError",
     "evalue": "invalid syntax (138279671.py, line 2)",
     "output_type": "error",
     "traceback": [
      "\u001b[1;36m  Cell \u001b[1;32mIn [5], line 2\u001b[1;36m\u001b[0m\n\u001b[1;33m    class = 99\u001b[0m\n\u001b[1;37m          ^\u001b[0m\n\u001b[1;31mSyntaxError\u001b[0m\u001b[1;31m:\u001b[0m invalid syntax\n"
     ]
    }
   ],
   "source": [
    "# python reserved words cannot be used for other things\n",
    "class = 99\n",
    "print(class)\n",
    "\n",
    "# Instead use \n",
    "class1 = 99\n",
    "print(class1)"
   ]
  },
  {
   "cell_type": "markdown",
   "metadata": {},
   "source": [
    "## Types are assigned to variables as well as values"
   ]
  },
  {
   "cell_type": "code",
   "execution_count": null,
   "metadata": {},
   "outputs": [],
   "source": [
    "num1 = 123\n",
    "num2 = 12.34\n",
    "string1 = 'This is a string'\n",
    "string2 = 'This is another string'\n",
    "print(num1,'--->>',type(num1))\n",
    "print(num2,'--->>',type(num2))\n",
    "print(string1,'--->>',type(string1))\n",
    "print(string2,'--->>',type(string2))\n"
   ]
  },
  {
   "cell_type": "markdown",
   "metadata": {},
   "source": [
    "## Results of methods can instantiate object types as well "
   ]
  },
  {
   "cell_type": "code",
   "execution_count": null,
   "metadata": {},
   "outputs": [],
   "source": [
    "from datetime import date, datetime\n",
    "\n",
    "now1 = datetime.now()\n",
    "print(now1, '--->>', type(now1))"
   ]
  },
  {
   "cell_type": "code",
   "execution_count": null,
   "metadata": {},
   "outputs": [],
   "source": [
    "\n",
    "import re\n",
    "\n",
    "namerev = \"Denny Brent\"\n",
    "name = re.sub(r'^(.+)\\s+(.+)$',r'\\2 \\1',namerev)\n",
    "print(name, '--->>', type(name))"
   ]
  },
  {
   "cell_type": "markdown",
   "metadata": {},
   "source": [
    "## Strings - all strings are UNICODE\n",
    "- single quotes\n",
    "- double quotes\n",
    "- triple qoutes"
   ]
  },
  {
   "cell_type": "code",
   "execution_count": null,
   "metadata": {},
   "outputs": [],
   "source": [
    "singlelinestr1 = 'This is a single line with single quotes'\n",
    "singlelinestr2 = \"This is a single line with double quotes\"\n",
    "multilinestr1  = '''This is a string that\n",
    "can be placed on multiple \n",
    "lines'''\n",
    "print(singlelinestr1)\n",
    "print(singlelinestr2)\n",
    "print(multilinestr1)"
   ]
  },
  {
   "cell_type": "code",
   "execution_count": null,
   "metadata": {},
   "outputs": [],
   "source": [
    "practicaldbl = \"This string doesn't get confused with the ' within the string\"\n",
    "print(practicaldbl)"
   ]
  },
  {
   "cell_type": "code",
   "execution_count": null,
   "metadata": {},
   "outputs": [],
   "source": [
    "practicalsngl = 'When quoting what someone has said \"We enclose it in double quotes\"'\n",
    "print(practicalsngl)"
   ]
  },
  {
   "cell_type": "markdown",
   "metadata": {},
   "source": [
    "## quoting single characters with the \\\\ character"
   ]
  },
  {
   "cell_type": "code",
   "execution_count": null,
   "metadata": {},
   "outputs": [],
   "source": [
    "quotesinglel = 'This string doesn\\'t get confused with the \\' within the string because it is quoted as a literal character'\n",
    "print(quotesinglel)"
   ]
  },
  {
   "cell_type": "markdown",
   "metadata": {},
   "source": [
    "## Sometimes we need the back slash in the string. \n",
    "- for example: if we are building a RegEx string\n",
    "- two ways to achieve this\n",
    "  - double back slash\n",
    "  - raw string creation"
   ]
  },
  {
   "cell_type": "code",
   "execution_count": null,
   "metadata": {},
   "outputs": [],
   "source": [
    "pattern1 = '^\\\\w+\\\\s+\\\\w+$'\n",
    "print(pattern1)"
   ]
  },
  {
   "cell_type": "code",
   "execution_count": null,
   "metadata": {},
   "outputs": [],
   "source": [
    "# typing r before the start of the string will create a raw string\n",
    "pattern2 = r'^\\w+\\s+\\w+$'\n",
    "print(pattern2)"
   ]
  },
  {
   "cell_type": "markdown",
   "metadata": {},
   "source": [
    "## Special characters can be added to the string using the \\\\"
   ]
  },
  {
   "cell_type": "code",
   "execution_count": null,
   "metadata": {},
   "outputs": [],
   "source": [
    "# \\U allows us to add a hex value for the unicode value of a character (notice that it is an uppercase U)\n",
    "\n",
    "print('\\U00000041')\n",
    "print('\\U00000042')\n",
    "print('\\U00000043')\n",
    "print('\\U00000044')\n",
    "print('\\U00000045')\n",
    "print('\\U00000046')\n",
    "print('\\U00000047')\n",
    "print('\\U00000048')\n",
    "print('\\U00000049')\n",
    "print('\\U0000004A')\n",
    "print('\\U0000004B')\n",
    "print('\\U0000004C')\n",
    "print('\\U0000004D')\n"
   ]
  },
  {
   "cell_type": "code",
   "execution_count": null,
   "metadata": {},
   "outputs": [],
   "source": [
    "# \\n is a newline special character\n",
    "print('This\\nis\\nanother\\nexample\\nof\\nspecial\\ncharacters')"
   ]
  },
  {
   "cell_type": "code",
   "execution_count": null,
   "metadata": {},
   "outputs": [],
   "source": [
    "# /t is a tab special char\n",
    "print('Names')\n",
    "print('First\\tLast')\n",
    "print('-----\\t----')\n",
    "print('Brent\\tDenny')\n",
    "print('Brian\\tFerry')"
   ]
  },
  {
   "cell_type": "markdown",
   "metadata": {},
   "source": [
    "## All of the special characters\n",
    "\n",
    "|Code|Meaning|\n",
    "|---|---| \n",
    "|\\\\\\\\ |backslash|\n",
    "|\\\\' |single quote|\n",
    "|\\\\\" |double quote|\n",
    "|\\\\a | BELL\n",
    "|\\\\b | BACKSPACE\n",
    "|\\\\f | FORMFEED\n",
    "|\\\\n | newline\n",
    "|\\\\N{name} |Unicode named code point\n",
    "|\\\\r | carriage return\n",
    "|\\\\t | TAB\n",
    "|\\\\u | 16bit unicode\n",
    "|\\\\U | 32bit unicode\n",
    "|\\\\### |character with the octal ASCII value ###\n",
    "|\\\\xhh |character with the octal ASCII value hh\n"
   ]
  },
  {
   "cell_type": "markdown",
   "metadata": {},
   "source": [
    "## String operators and methods"
   ]
  },
  {
   "cell_type": "code",
   "execution_count": null,
   "metadata": {},
   "outputs": [],
   "source": [
    "string1 = \"This is a string 1234\"\n",
    "print(dir(string1))"
   ]
  },
  {
   "cell_type": "code",
   "execution_count": null,
   "metadata": {},
   "outputs": [],
   "source": [
    "string1 = \"This is a string 1234\"\n",
    "print(string1, '--->>', string1.upper())\n",
    "print(string1, '--->>', string1.lower())\n",
    "print(string1, '--->>', string1.count('i'))\n",
    "print(string1, '--->>', string1.count('t'))\n",
    "print(string1, '--->>', string1.lower().count('t'))\n",
    "print(string1, '--->>', string1.split())\n",
    "print(string1, '--->>', string1.endswith('1234'))\n",
    "print(string1, '--->>', string1.swapcase())\n",
    "print(string1, '--->>', string1.index('i'))\n",
    "print(string1, '--->>', string1.find('z'))\n",
    "print(string1, '--->>', string1.capitalize())\n",
    "print(string1, '--->>', string1.title())"
   ]
  },
  {
   "cell_type": "code",
   "execution_count": null,
   "metadata": {},
   "outputs": [],
   "source": [
    "string2 =  '1234'\n",
    "print(string2, '--->>', string2.isdigit())"
   ]
  },
  {
   "cell_type": "markdown",
   "metadata": {},
   "source": [
    "## unix tr equivalent"
   ]
  },
  {
   "cell_type": "code",
   "execution_count": null,
   "metadata": {},
   "outputs": [],
   "source": [
    "string1 = \"This is a string 1234\"\n",
    "trans = str.maketrans('i','u')\n",
    "string1.translate(trans)"
   ]
  },
  {
   "cell_type": "markdown",
   "metadata": {},
   "source": [
    "## Numeric types\n",
    "- Boolean\n",
    "- Integers\n",
    "- Floats\n",
    "- Complex numbers"
   ]
  },
  {
   "cell_type": "code",
   "execution_count": null,
   "metadata": {},
   "outputs": [],
   "source": [
    "bool1 = True\n",
    "bool2 = bool(1)\n",
    "bool3 = bool(231)\n",
    "bool4 = bool(0)\n",
    "bool5 = False\n",
    "\n",
    "print (bool1,bool2,bool3,bool4,bool5)"
   ]
  },
  {
   "cell_type": "code",
   "execution_count": null,
   "metadata": {},
   "outputs": [],
   "source": [
    "val1 = 123\n",
    "val2 = 123.44\n",
    "int1 = val1\n",
    "int2 = int(val2)\n",
    "print(val1,'--->>',int1,'--->>',type(int1))\n",
    "print(val2,'--->>',int2,'--->>',type(int2))\n"
   ]
  },
  {
   "cell_type": "code",
   "execution_count": null,
   "metadata": {},
   "outputs": [],
   "source": [
    "float1 = 123.44\n",
    "float2 = float(123)\n",
    "int1 = 125\n",
    "int2 = 53\n",
    "int3 = 5\n",
    "float3 = int1 / int2\n",
    "float4 = int1 / int3\n",
    "print('float1 =', float1)\n",
    "print('float2 =', float2)\n",
    "print('float3 =', float3)\n",
    "print('float4 =', float4)\n"
   ]
  },
  {
   "cell_type": "code",
   "execution_count": null,
   "metadata": {},
   "outputs": [],
   "source": [
    "from math import sqrt\n",
    "\n",
    "complex1 = complex(25)\n",
    "complex2 = 3 + 4j\n",
    "\n",
    "print(complex1,complex2)\n"
   ]
  },
  {
   "cell_type": "markdown",
   "metadata": {},
   "source": [
    "#### working with different base values"
   ]
  },
  {
   "cell_type": "code",
   "execution_count": null,
   "metadata": {},
   "outputs": [],
   "source": [
    "oct1 = 0o12\n",
    "hex1 = 0x12\n",
    "bin1 = 0b1100\n",
    "\n",
    "print(oct1, hex1, bin1)"
   ]
  },
  {
   "cell_type": "markdown",
   "metadata": {},
   "source": [
    "## Math operators and functions"
   ]
  },
  {
   "cell_type": "code",
   "execution_count": null,
   "metadata": {},
   "outputs": [],
   "source": [
    "a = 12\n",
    "b = 5\n",
    "c = 123.44\n",
    "d = -34\n",
    "\n",
    "\n",
    "\n",
    "print('+','--->>',a + b)\n",
    "print('-','--->>',a - b)\n",
    "print('*','--->>',a * b)\n",
    "print('/','--->>',a / b)\n",
    "print('//','--->>',a // b)\n",
    "print('&','--->>',a % b)\n",
    "print('neg','--->>',-a + b)\n",
    "print('abs','--->>',a + abs(d))\n",
    "print('divmod','--->>',divmod(a , b))\n",
    "print('pow','--->>',pow(a , b))\n",
    "print('**','--->>',a ** b)\n"
   ]
  },
  {
   "cell_type": "markdown",
   "metadata": {},
   "source": [
    "## Typecasting and converting data structures"
   ]
  },
  {
   "cell_type": "code",
   "execution_count": null,
   "metadata": {},
   "outputs": [],
   "source": [
    "print(int(123.45),type(int(123.45)))\n",
    "print(float(123),type(float(123)))\n",
    "print(str(123),type(str(123)))\n",
    "print(bool(1),type(bool(1)))\n"
   ]
  },
  {
   "cell_type": "markdown",
   "metadata": {},
   "source": [
    "## Data structures"
   ]
  },
  {
   "cell_type": "code",
   "execution_count": null,
   "metadata": {},
   "outputs": [],
   "source": [
    "data1 = (1,2,3)\n",
    "paired_data = (('dns',53),('smtp',25),('ssl',443))\n",
    "print(data1, data1, type(data1))\n",
    "print(data1, list(data1), type(list(data1)))\n",
    "print(data1,set(data1) , type(set(data1)))\n",
    "print(paired_data, dict(paired_data), type(dict(paired_data)))\n"
   ]
  },
  {
   "cell_type": "markdown",
   "metadata": {},
   "source": [
    "## Writing to the screen"
   ]
  },
  {
   "cell_type": "code",
   "execution_count": null,
   "metadata": {},
   "outputs": [],
   "source": [
    "h = 'Hello'\n",
    "w = 'World'\n",
    "print(h,w)\n",
    "print('-----------')\n",
    "print()\n",
    "print(h,w,sep=':')\n",
    "print('-----------')\n",
    "print()\n",
    "print(h,end='_') \n",
    "print(w)\n",
    "print('-----------')\n",
    "print()\n",
    "print(h,w,sep='')\n",
    "print('-----------')\n",
    "print()"
   ]
  },
  {
   "cell_type": "markdown",
   "metadata": {},
   "source": [
    "## String formats using .format"
   ]
  },
  {
   "cell_type": "code",
   "execution_count": null,
   "metadata": {},
   "outputs": [],
   "source": [
    "proto,port = ('dns','53')\n",
    "\n",
    "print('The name of the protocol is {0} and it\\'s port number is {1}'.format(proto,port))"
   ]
  },
  {
   "cell_type": "code",
   "execution_count": null,
   "metadata": {},
   "outputs": [],
   "source": [
    "proto,port = ('dns','53')\n",
    "\n",
    "print('The name of the protocol is {0:<10s} and it\\'s port number is {1:>5s}'.format(proto,port))"
   ]
  },
  {
   "cell_type": "code",
   "execution_count": null,
   "metadata": {},
   "outputs": [],
   "source": [
    "name, age = ('bob',50)\n",
    "\n",
    "print('Employee {0:^10s} is {1:>10.2f} years old today'.format(name,age))"
   ]
  },
  {
   "cell_type": "code",
   "execution_count": null,
   "metadata": {},
   "outputs": [],
   "source": [
    "proto,port = ('dns','53')\n",
    "\n",
    "print(f'The name of the protocol is {proto} and it\\'s port number is {port}')"
   ]
  },
  {
   "cell_type": "markdown",
   "metadata": {},
   "source": [
    "## Command line arguments"
   ]
  },
  {
   "cell_type": "code",
   "execution_count": 11,
   "metadata": {},
   "outputs": [
    {
     "name": "stdout",
     "output_type": "stream",
     "text": [
      "hello Brent Denny\n"
     ]
    }
   ],
   "source": [
    "# for a fixed number of mandatory arguments \n",
    "def sentence(firstname, lastname):\n",
    "  return f'hello {firstname} {lastname}'\n",
    "\n",
    "print(sentence('Brent', 'Denny'))\n",
    "# This next one will not work as it does not have all of the mandatory parameter values\n",
    "# print(sentence('Brent'))\n"
   ]
  },
  {
   "cell_type": "code",
   "execution_count": 5,
   "metadata": {},
   "outputs": [
    {
     "name": "stdout",
     "output_type": "stream",
     "text": [
      "hello Denny Brent\n",
      "hello Brent Denny\n"
     ]
    }
   ],
   "source": [
    "# for a fixed number of mandatory arguments (naming them on the command line)\n",
    "def sentence(firstname, lastname):\n",
    "  return f'hello {firstname} {lastname}'\n",
    "\n",
    "print(sentence('Denny', 'Brent')) # wrong order, positional parameters nedd to be typed in the correct order\n",
    "print(sentence(lastname = 'Denny', firstname = 'Brent'))\n"
   ]
  },
  {
   "cell_type": "code",
   "execution_count": 4,
   "metadata": {},
   "outputs": [
    {
     "name": "stdout",
     "output_type": "stream",
     "text": [
      "These are my family members names: ('bob', 'bill', 'kate', 'rianne')\n"
     ]
    }
   ],
   "source": [
    "# for an unknown number of parameters\n",
    "def listfamily(*family):\n",
    "  return f'These are my family members names: {family}'\n",
    "\n",
    "print(listfamily('bob','bill','kate','rianne'))  "
   ]
  },
  {
   "cell_type": "code",
   "execution_count": 9,
   "metadata": {},
   "outputs": [
    {
     "data": {
      "text/plain": [
       "{'brent': 55, 'simon': 54}"
      ]
     },
     "execution_count": 9,
     "metadata": {},
     "output_type": "execute_result"
    }
   ],
   "source": [
    "#Using keyword arguments\n",
    "def information(**kwargs):\n",
    "  keywords = kwargs.keys\n",
    "  return kwargs\n",
    "\n",
    "information(brent = 55, simon = 54) \n"
   ]
  },
  {
   "cell_type": "markdown",
   "metadata": {},
   "source": [
    "## Read from keyboard"
   ]
  },
  {
   "cell_type": "code",
   "execution_count": 10,
   "metadata": {},
   "outputs": [
    {
     "name": "stdout",
     "output_type": "stream",
     "text": [
      "Hello brent\n"
     ]
    }
   ],
   "source": [
    "input1 = input('Enter your name: ')\n",
    "print(f'Hello {input1}')"
   ]
  }
 ],
 "metadata": {
  "kernelspec": {
   "display_name": "Python 3.10.6 64-bit",
   "language": "python",
   "name": "python3"
  },
  "language_info": {
   "codemirror_mode": {
    "name": "ipython",
    "version": 3
   },
   "file_extension": ".py",
   "mimetype": "text/x-python",
   "name": "python",
   "nbconvert_exporter": "python",
   "pygments_lexer": "ipython3",
   "version": "3.10.6"
  },
  "orig_nbformat": 4,
  "vscode": {
   "interpreter": {
    "hash": "917c2fcfba35f78a8c6240e40e0068b9d5bef1e4004d7bc74bf2323334ee950e"
   }
  }
 },
 "nbformat": 4,
 "nbformat_minor": 2
}
